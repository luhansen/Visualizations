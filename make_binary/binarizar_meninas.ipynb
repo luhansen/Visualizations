{
 "cells": [
  {
   "cell_type": "code",
   "execution_count": 13,
   "metadata": {},
   "outputs": [],
   "source": [
    "from numpy import *\n",
    "import csv\n",
    "import sqlite3"
   ]
  },
  {
   "cell_type": "code",
   "execution_count": 26,
   "metadata": {},
   "outputs": [],
   "source": [
    "def read_input(filename):\n",
    "    data = []\n",
    "    with open(filename) as file:\n",
    "        data = [i.strip('\\n').split(',')[:-1] for i in file.readlines()]\n",
    "    return data\n",
    "\n",
    "meninas = read_input('../meninos.csv')"
   ]
  },
  {
   "cell_type": "code",
   "execution_count": 27,
   "metadata": {},
   "outputs": [
    {
     "data": {
      "text/plain": [
       "['\"ID.Aluno\"',\n",
       " '\"Sexo\"',\n",
       " '\"Data.de.Nascimento\"',\n",
       " '\"UF.birth\"',\n",
       " '\"Quota\"',\n",
       " '\"School type\"',\n",
       " '\"Race\"',\n",
       " '\"Course\"',\n",
       " '\"Option\"',\n",
       " '\"Entrance.UnB.period\"',\n",
       " '\"Entrance.option.period\"',\n",
       " '\"Entrance.option.form\"',\n",
       " '\"Leaving.option.period\"',\n",
       " '\"Leaving.option.form\"',\n",
       " '\"Min.Graduation.Credits\"',\n",
       " '\"Total.Credits\"',\n",
       " '\"Paid-in.credits\"']"
      ]
     },
     "execution_count": 27,
     "metadata": {},
     "output_type": "execute_result"
    }
   ],
   "source": [
    "meninas[0]"
   ]
  },
  {
   "cell_type": "code",
   "execution_count": 28,
   "metadata": {},
   "outputs": [],
   "source": [
    "def separa_dados(matriz, num):\n",
    "    data = []\n",
    "    for y in range(0, len(matriz)):\n",
    "        data.append([])\n",
    "        data[y].append(0)\n",
    "        data[y][0] = matriz[y][num].rstrip().title()\n",
    "    return data\n",
    "\n",
    "\n"
   ]
  },
  {
   "cell_type": "code",
   "execution_count": 29,
   "metadata": {},
   "outputs": [],
   "source": [
    "def binarizar_num(matriz):    \n",
    "    x = 0\n",
    "    bina = 1\n",
    "    data = []\n",
    "    for y in range(0, len(matriz)):\n",
    "#         print(matriz[y])\n",
    "        data.append([])\n",
    "        data[x].append(0)\n",
    "#         print(bina)\n",
    "        data[x] = bina\n",
    "        bina = bina<<1\n",
    "        x = x+1\n",
    "    return data"
   ]
  },
  {
   "cell_type": "code",
   "execution_count": 30,
   "metadata": {},
   "outputs": [],
   "source": [
    "def binarizacao(matriz, num, matriz_bin, matriz_aux):\n",
    "    for y in range(0, len(matriz)):\n",
    "        for x in range(0, len(matriz_bin)):\n",
    "            if matriz[y][num].lower() == matriz_aux[x]:\n",
    "                matriz[y][num] = matriz_bin[x]\n",
    "                break;\n",
    "    return matriz"
   ]
  },
  {
   "cell_type": "code",
   "execution_count": 31,
   "metadata": {},
   "outputs": [],
   "source": [
    "curso = separa_dados(meninas[1:], 7)\n",
    "opcao = separa_dados(meninas[1:], 8)\n",
    "\n",
    "cursos = curso + opcao\n",
    "\n",
    "\n",
    "UF = separa_dados(meninas[1:], 3)\n",
    "cotista = separa_dados(meninas[1:], 4)\n",
    "escola = separa_dados(meninas[1:], 5)\n",
    "raca = separa_dados(meninas[1:], 6)\n",
    "formaIngresso = separa_dados(meninas[1:], 11)\n",
    "formaSaida = separa_dados(meninas[1:], 13)\n",
    "\n",
    "cursos = unique(cursos)\n",
    "for y in range(0, len(cursos)):\n",
    "    cursos[y] = cursos[y].lower()\n",
    "\n",
    "UF = unique(UF)\n",
    "for y in range(0, len(UF)):\n",
    "    UF[y] = UF[y].lower()\n",
    "    \n",
    "cotista = unique(cotista)\n",
    "for y in range(0, len(cotista)):\n",
    "    cotista[y] = cotista[y].lower()\n",
    "\n",
    "escola = unique(escola)\n",
    "for y in range(0, len(escola)):\n",
    "    escola[y] = escola[y].lower()\n",
    "    \n",
    "raca = unique(raca)\n",
    "for y in range(0, len(raca)):\n",
    "    raca[y] = raca[y].lower()\n",
    "    \n",
    "formaIngresso = unique(formaIngresso)\n",
    "for y in range(0, len(formaIngresso)):\n",
    "    formaIngresso[y] = formaIngresso[y].lower()\n",
    "    \n",
    "formaSaida = unique(formaSaida)\n",
    "for y in range(0, len(formaSaida)):\n",
    "    formaSaida[y] = formaSaida[y].lower()"
   ]
  },
  {
   "cell_type": "code",
   "execution_count": 32,
   "metadata": {},
   "outputs": [],
   "source": [
    "binario_cursos = binarizar_num(cursos)\n",
    "binario_UF = binarizar_num(UF)\n",
    "binario_cotista = binarizar_num(cotista)\n",
    "binario_escola = binarizar_num(escola)\n",
    "binario_raca = binarizar_num(raca)\n",
    "binario_formaIngresso = binarizar_num(formaIngresso)\n",
    "binario_formaSaida = binarizar_num(formaSaida)"
   ]
  },
  {
   "cell_type": "code",
   "execution_count": 33,
   "metadata": {},
   "outputs": [
    {
     "name": "stdout",
     "output_type": "stream",
     "text": [
      "cursos\n",
      "[1, 2, 4, 8, 16, 32]\n",
      "['\"communication network engineering\"' '\"computer engineering\"'\n",
      " '\"computer licentiate\"' '\"computer science\"' '\"mechatronics engineering\"'\n",
      " '\"software engineering\"']\n",
      "UF\n",
      "[1, 2, 4, 8, 16, 32, 64, 128, 256, 512, 1024, 2048, 4096, 8192, 16384, 32768, 65536, 131072, 262144, 524288, 1048576, 2097152, 4194304, 8388608, 16777216, 33554432, 67108864, 134217728]\n",
      "['\"  \"' '\"ac\"' '\"al\"' '\"am\"' '\"ap\"' '\"ba\"' '\"ce\"' '\"df\"' '\"es\"' '\"go\"'\n",
      " '\"ma\"' '\"mg\"' '\"ms\"' '\"mt\"' '\"pa\"' '\"pb\"' '\"pe\"' '\"pi\"' '\"pr\"' '\"rj\"'\n",
      " '\"rn\"' '\"ro\"' '\"rr\"' '\"rs\"' '\"sc\"' '\"se\"' '\"sp\"' '\"to\"']\n",
      "cotista\n",
      "[1, 2]\n",
      "['\"n\\xc3\\xa3o\"' '\"sim\"']\n",
      "escola\n",
      "[1, 2, 4]\n",
      "['\"n\\xc3\\xa3o informada\"' '\"particular\"' '\"p\\xc3\\xbablica\"']\n",
      "raca\n",
      "[1, 2, 4, 8, 16, 32, 64, 128]\n",
      "['\"amarela                       \"' '\"branca                        \"'\n",
      " '\"indigena                      \"'\n",
      " '\"n\\xc3\\xa3o cadastrada                \"'\n",
      " '\"n\\xc3\\xa3o disp\\xef\\xbf\\xbde da informa\\xef\\xbf\\xbd\\xef\\xbf\\xbdo      \"'\n",
      " '\"n\\xc3\\xa3o informado\"' '\"parda                         \"'\n",
      " '\"preta                         \"']\n",
      "forma de ingresso\n",
      "[1, 2, 4, 8, 16, 32, 64, 128, 256, 512, 1024, 2048, 4096, 8192]\n",
      "['\"acordo cultural-pec-g\"' '\"conv\\xef\\xbf\\xbdnio - andifes            \"'\n",
      " '\"conv\\xef\\xbf\\xbdnio-int                  \"'\n",
      " '\"enem                          \"'\n",
      " '\"matr\\xef\\xbf\\xbdcula cortesia            \"'\n",
      " '\"pec-peppfol-gradua\\xc3\\xa7\\xc3\\xa3o\"'\n",
      " '\"portador diplom curso superior\"'\n",
      " '\"programa de avalia\\xc3\\xa7\\xc3\\xa3o seriada \"'\n",
      " '\"refugiado                     \"'\n",
      " '\"sisu-sistema de sele\\xef\\xbf\\xbd\\xef\\xbf\\xbdo unificada\"'\n",
      " '\"transferencia facultativa     \"'\n",
      " '\"transferencia obrigat\\xef\\xbf\\xbdria     \"'\n",
      " '\"vestibular                    \"' '\"vestibular para mesmo curso   \"']\n",
      "forma de saida\n",
      "[1, 2, 4, 8, 16]\n",
      "['\"active\"' '\"death\"' '\"drop out\"' '\"graduated\"' '\"others\"']\n"
     ]
    }
   ],
   "source": [
    "print('cursos')\n",
    "print(binario_cursos)\n",
    "print(cursos)\n",
    "\n",
    "print('UF')\n",
    "print(binario_UF)\n",
    "print(UF)\n",
    "\n",
    "print('cotista')\n",
    "print(binario_cotista)\n",
    "print(cotista)\n",
    "\n",
    "print('escola')\n",
    "print(binario_escola)\n",
    "print(escola)\n",
    "\n",
    "print('raca')\n",
    "print(binario_raca)\n",
    "print(raca)\n",
    "\n",
    "print('forma de ingresso')\n",
    "print(binario_formaIngresso)\n",
    "print(formaIngresso)\n",
    "\n",
    "print('forma de saida')\n",
    "print(binario_formaSaida)\n",
    "print(formaSaida)"
   ]
  },
  {
   "cell_type": "code",
   "execution_count": 34,
   "metadata": {},
   "outputs": [],
   "source": [
    "meninas = binarizacao(meninas, 7, binario_cursos, cursos)\n",
    "meninas = binarizacao(meninas, 8, binario_cursos, cursos)\n",
    "meninas = binarizacao(meninas, 3, binario_UF, UF)\n",
    "meninas = binarizacao(meninas, 4, binario_cotista, cotista)\n",
    "meninas = binarizacao(meninas, 5, binario_escola, escola)\n",
    "meninas = binarizacao(meninas, 6, binario_raca, raca)\n",
    "meninas = binarizacao(meninas, 11, binario_formaIngresso, formaIngresso)\n",
    "meninas = binarizacao(meninas, 13, binario_formaSaida, formaSaida)"
   ]
  },
  {
   "cell_type": "code",
   "execution_count": 35,
   "metadata": {},
   "outputs": [
    {
     "data": {
      "text/plain": [
       "['\"100009\"',\n",
       " '\"M\"',\n",
       " '\"1984-05-10 00:00:00.000\"',\n",
       " 128,\n",
       " 1,\n",
       " 1,\n",
       " 64,\n",
       " 4,\n",
       " 4,\n",
       " '20032',\n",
       " '20032',\n",
       " 4096,\n",
       " '20091',\n",
       " 4,\n",
       " '180',\n",
       " '138',\n",
       " '140']"
      ]
     },
     "execution_count": 35,
     "metadata": {},
     "output_type": "execute_result"
    }
   ],
   "source": [
    "meninas[1]"
   ]
  },
  {
   "cell_type": "code",
   "execution_count": 36,
   "metadata": {},
   "outputs": [],
   "source": [
    "import csv\n",
    "\n",
    "with open('meninosbin.csv', mode='w') as employee_file:\n",
    "    employee_writer = csv.writer(employee_file, delimiter=';', quoting=csv.QUOTE_MINIMAL)\n",
    "    for y in range(0, len(meninas)):\n",
    "        employee_writer.writerow(meninas[y])"
   ]
  },
  {
   "cell_type": "code",
   "execution_count": null,
   "metadata": {},
   "outputs": [],
   "source": []
  }
 ],
 "metadata": {
  "kernelspec": {
   "display_name": "Python 2",
   "language": "python",
   "name": "python2"
  },
  "language_info": {
   "codemirror_mode": {
    "name": "ipython",
    "version": 2
   },
   "file_extension": ".py",
   "mimetype": "text/x-python",
   "name": "python",
   "nbconvert_exporter": "python",
   "pygments_lexer": "ipython2",
   "version": "2.7.15"
  }
 },
 "nbformat": 4,
 "nbformat_minor": 2
}
